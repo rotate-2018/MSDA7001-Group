{
 "cells": [
  {
   "cell_type": "code",
   "execution_count": 1,
   "id": "d0d6a943-5c62-4953-b2f5-36de8ac50ce9",
   "metadata": {},
   "outputs": [],
   "source": [
    "import pandas as pd\n",
    "import numpy as np"
   ]
  },
  {
   "cell_type": "code",
   "execution_count": 2,
   "id": "f028e213-d58a-403b-88cd-0f7bf84778ae",
   "metadata": {},
   "outputs": [],
   "source": [
    "df = pd.read_excel('7001_data.xlsx')"
   ]
  },
  {
   "cell_type": "code",
   "execution_count": 3,
   "id": "cde0aa64-2902-48b7-a762-d3fa8e33994e",
   "metadata": {},
   "outputs": [],
   "source": [
    "df['希望有几个孩子'] = pd.to_numeric(df['希望有几个孩子'], errors='coerce')\n",
    "df['所住房屋面积'] = pd.to_numeric(df['所住房屋面积'], errors='coerce')\n",
    "df['个人2020年收入'] = pd.to_numeric(df['个人2020年收入'], errors='coerce')\n",
    "df['2020家庭年收入'] = pd.to_numeric(df['2020家庭年收入'], errors='coerce')"
   ]
  },
  {
   "cell_type": "code",
   "execution_count": 4,
   "id": "06019fe3-82e5-4df7-8fc1-52a3435fcfdf",
   "metadata": {},
   "outputs": [],
   "source": [
    "# 然后删除含有NaN的行\n",
    "df1 = df.dropna(subset=['希望有几个孩子'])\n",
    "df2 = df.dropna(subset=['房价指数'])\n",
    "df3 = df.dropna(subset=['个人2020年收入'])\n",
    "df4 = df.dropna(subset=['2020家庭年收入'])\n",
    "df5 = df.dropna(subset=['所住房屋面积'])\n",
    "df6 = df.dropna(subset=['最高教育程度'])"
   ]
  },
  {
   "cell_type": "code",
   "execution_count": 5,
   "id": "29c78df5-e0c4-471d-844e-c06e8f99f50b",
   "metadata": {},
   "outputs": [
    {
     "name": "stdout",
     "output_type": "stream",
     "text": [
      "Mean: 2.059049570897912\n",
      "Count: 7807\n",
      "Standard Deviation: 1.1795283248049002\n",
      "Variance: 1.391287069017054\n",
      "Min: 0.0\n",
      "Max: 62.0\n",
      "CV: 0.5728508635615464\n"
     ]
    }
   ],
   "source": [
    "# 生育几个孩子\n",
    "mean_value0 = np.mean(df1['希望有几个孩子'])\n",
    "count0 = len(df1['希望有几个孩子'])\n",
    "std_dev0 = np.std(df1['希望有几个孩子'])\n",
    "variance0 = np.var(df1['希望有几个孩子'])\n",
    "min_value0 = np.min(df1['希望有几个孩子'])\n",
    "max_value0 = np.max(df1['希望有几个孩子'])\n",
    "cv0 = std_dev0/mean_value0\n",
    "\n",
    "print(f\"Mean: {mean_value0}\")\n",
    "print(f\"Count: {count0}\")\n",
    "print(f\"Standard Deviation: {std_dev0}\")\n",
    "print(f\"Variance: {variance0}\")\n",
    "print(f\"Min: {min_value0}\")\n",
    "print(f\"Max: {max_value0}\")\n",
    "print(f\"CV: {cv0}\")"
   ]
  },
  {
   "cell_type": "code",
   "execution_count": 6,
   "id": "b9f8cb3d-f244-41f4-99d6-f5e60e8e3035",
   "metadata": {},
   "outputs": [],
   "source": [
    "#生育意愿指标修改，大于一个孩子为高意愿，小于等于一个为低意愿\n",
    "df1.loc[df1['希望有几个孩子'] <= 1, '希望有几个孩子'] = 0\n",
    "df1.loc[df1['希望有几个孩子'] > 1, '希望有几个孩子'] = 1"
   ]
  },
  {
   "cell_type": "code",
   "execution_count": 7,
   "id": "9ade89a7-5222-4cf7-a789-3edf41006967",
   "metadata": {},
   "outputs": [
    {
     "name": "stdout",
     "output_type": "stream",
     "text": [
      "Mean: 0.7946714486998847\n",
      "Count: 7807\n",
      "Standard Deviation: 0.4039415023503961\n",
      "Variance: 0.16316873732109508\n",
      "Min: 0.0\n",
      "Max: 1.0\n",
      "CV: 0.5083125900789075\n"
     ]
    }
   ],
   "source": [
    "# 生育意愿\n",
    "mean_value1 = np.mean(df1['希望有几个孩子'])\n",
    "count1 = len(df1['希望有几个孩子'])\n",
    "std_dev1 = np.std(df1['希望有几个孩子'])\n",
    "variance1 = np.var(df1['希望有几个孩子'])\n",
    "min_value1 = np.min(df1['希望有几个孩子'])\n",
    "max_value1 = np.max(df1['希望有几个孩子'])\n",
    "cv1 = std_dev1/mean_value1\n",
    "\n",
    "print(f\"Mean: {mean_value1}\")\n",
    "print(f\"Count: {count1}\")\n",
    "print(f\"Standard Deviation: {std_dev1}\")\n",
    "print(f\"Variance: {variance1}\")\n",
    "print(f\"Min: {min_value1}\")\n",
    "print(f\"Max: {max_value1}\")\n",
    "print(f\"CV: {cv1}\")"
   ]
  },
  {
   "cell_type": "code",
   "execution_count": 8,
   "id": "eed888d0-ac3b-461c-9db7-7d3cacbd8a07",
   "metadata": {},
   "outputs": [
    {
     "name": "stdout",
     "output_type": "stream",
     "text": [
      "Mean: 12436.580265095728\n",
      "Count: 8148\n",
      "Standard Deviation: 10905.067732185647\n",
      "Variance: 118920502.24355662\n",
      "Min: 5985\n",
      "Max: 46941\n",
      "CV: 0.876854207485928\n"
     ]
    }
   ],
   "source": [
    "# 房价指数\n",
    "mean_value2 = np.mean(df2['房价指数'])\n",
    "count2 = len(df2['房价指数'])\n",
    "std_dev2 = np.std(df2['房价指数'])\n",
    "variance2 = np.var(df2['房价指数'])\n",
    "min_value2 = np.min(df2['房价指数'])\n",
    "max_value2 = np.max(df2['房价指数'])\n",
    "cv2 = std_dev2/mean_value2\n",
    "\n",
    "print(f\"Mean: {mean_value2}\")\n",
    "print(f\"Count: {count2}\")\n",
    "print(f\"Standard Deviation: {std_dev2}\")\n",
    "print(f\"Variance: {variance2}\")\n",
    "print(f\"Min: {min_value2}\")\n",
    "print(f\"Max: {max_value2}\")\n",
    "print(f\"CV: {cv2}\")"
   ]
  },
  {
   "cell_type": "code",
   "execution_count": 9,
   "id": "71c38188-cd77-4fb3-8a48-55ed9e96541d",
   "metadata": {},
   "outputs": [
    {
     "name": "stdout",
     "output_type": "stream",
     "text": [
      "Mean: 51241.099277239875\n",
      "Count: 7333\n",
      "Standard Deviation: 332352.99423655093\n",
      "Variance: 110458512778.00087\n",
      "Min: 0.0\n",
      "Max: 9999990.0\n",
      "CV: 6.486062924574582\n"
     ]
    }
   ],
   "source": [
    "# 个人2020年收入\n",
    "mean_value3 = np.mean(df3['个人2020年收入'])\n",
    "count3 = len(df3['个人2020年收入'])\n",
    "std_dev3 = np.std(df3['个人2020年收入'])\n",
    "variance3 = np.var(df3['个人2020年收入'])\n",
    "min_value3 = np.min(df3['个人2020年收入'])\n",
    "max_value3 = np.max(df3['个人2020年收入'])\n",
    "cv3 = std_dev3/mean_value3\n",
    "\n",
    "print(f\"Mean: {mean_value3}\")\n",
    "print(f\"Count: {count3}\")\n",
    "print(f\"Standard Deviation: {std_dev3}\")\n",
    "print(f\"Variance: {variance3}\")\n",
    "print(f\"Min: {min_value3}\")\n",
    "print(f\"Max: {max_value3}\")\n",
    "print(f\"CV: {cv3}\")"
   ]
  },
  {
   "cell_type": "code",
   "execution_count": 10,
   "id": "c5f4fa0a-a733-418c-a533-868ddc20994a",
   "metadata": {},
   "outputs": [
    {
     "name": "stdout",
     "output_type": "stream",
     "text": [
      "Mean: 112148.04381041472\n",
      "Count: 6414\n",
      "Standard Deviation: 448822.44269982097\n",
      "Variance: 201441585071.03406\n",
      "Min: 0.0\n",
      "Max: 9999908.0\n",
      "CV: 4.002053245427547\n"
     ]
    }
   ],
   "source": [
    "# 2020家庭年收入\n",
    "mean_value4 = np.mean(df4['2020家庭年收入'])\n",
    "count4 = len(df4['2020家庭年收入'])\n",
    "std_dev4 = np.std(df4['2020家庭年收入'])\n",
    "variance4 = np.var(df4['2020家庭年收入'])\n",
    "min_value4 = np.min(df4['2020家庭年收入'])\n",
    "max_value4 = np.max(df4['2020家庭年收入'])\n",
    "cv4 = std_dev4/mean_value4\n",
    "\n",
    "print(f\"Mean: {mean_value4}\")\n",
    "print(f\"Count: {count4}\")\n",
    "print(f\"Standard Deviation: {std_dev4}\")\n",
    "print(f\"Variance: {variance4}\")\n",
    "print(f\"Min: {min_value4}\")\n",
    "print(f\"Max: {max_value4}\")\n",
    "print(f\"CV: {cv4}\")"
   ]
  },
  {
   "cell_type": "code",
   "execution_count": 11,
   "id": "eba70c46-3784-4e70-b75c-50002fef9db9",
   "metadata": {},
   "outputs": [
    {
     "name": "stdout",
     "output_type": "stream",
     "text": [
      "Mean: 121.73296475466482\n",
      "Count: 7235\n",
      "Standard Deviation: 175.773860533086\n",
      "Variance: 30896.450046704773\n",
      "Min: 7.0\n",
      "Max: 9997.0\n",
      "CV: 1.4439298417428081\n"
     ]
    }
   ],
   "source": [
    "# 所住房屋面积\n",
    "mean_value5 = np.mean(df5['所住房屋面积'])\n",
    "count5 = len(df5['所住房屋面积'])\n",
    "std_dev5 = np.std(df5['所住房屋面积'])\n",
    "variance5 = np.var(df5['所住房屋面积'])\n",
    "min_value5 = np.min(df5['所住房屋面积'])\n",
    "max_value5 = np.max(df5['所住房屋面积'])\n",
    "cv5 = std_dev5/mean_value5\n",
    "\n",
    "print(f\"Mean: {mean_value5}\")\n",
    "print(f\"Count: {count5}\")\n",
    "print(f\"Standard Deviation: {std_dev5}\")\n",
    "print(f\"Variance: {variance5}\")\n",
    "print(f\"Min: {min_value5}\")\n",
    "print(f\"Max: {max_value5}\")\n",
    "print(f\"CV: {cv5}\")"
   ]
  },
  {
   "cell_type": "code",
   "execution_count": 12,
   "id": "cafe010e-1a1d-49fb-9c14-10b8a5dda1e7",
   "metadata": {},
   "outputs": [
    {
     "name": "stdout",
     "output_type": "stream",
     "text": [
      "Mean: 2.0538944259874494\n",
      "Count: 8127\n",
      "Standard Deviation: 0.98120608425202\n",
      "Variance: 0.9627653797731822\n",
      "Min: 1.0\n",
      "Max: 4.0\n",
      "CV: 0.4777295618689292\n"
     ]
    }
   ],
   "source": [
    "# 最高教育程度\n",
    "mean_value6 = np.mean(df6['最高教育程度'])\n",
    "count6 = len(df6['最高教育程度'])\n",
    "std_dev6 = np.std(df6['最高教育程度'])\n",
    "variance6 = np.var(df6['最高教育程度'])\n",
    "min_value6 = np.min(df6['最高教育程度'])\n",
    "max_value6 = np.max(df6['最高教育程度'])\n",
    "cv6 = std_dev6/mean_value6\n",
    "\n",
    "print(f\"Mean: {mean_value6}\")\n",
    "print(f\"Count: {count6}\")\n",
    "print(f\"Standard Deviation: {std_dev6}\")\n",
    "print(f\"Variance: {variance6}\")\n",
    "print(f\"Min: {min_value6}\")\n",
    "print(f\"Max: {max_value6}\")\n",
    "print(f\"CV: {cv6}\")"
   ]
  }
 ],
 "metadata": {
  "kernelspec": {
   "display_name": "Python 3 (ipykernel)",
   "language": "python",
   "name": "python3"
  },
  "language_info": {
   "codemirror_mode": {
    "name": "ipython",
    "version": 3
   },
   "file_extension": ".py",
   "mimetype": "text/x-python",
   "name": "python",
   "nbconvert_exporter": "python",
   "pygments_lexer": "ipython3",
   "version": "3.12.3"
  }
 },
 "nbformat": 4,
 "nbformat_minor": 5
}
